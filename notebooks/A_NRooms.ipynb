{
 "cells": [
  {
   "cell_type": "code",
   "execution_count": 6,
   "id": "03c468d6",
   "metadata": {},
   "outputs": [
    {
     "name": "stdout",
     "output_type": "stream",
     "text": [
      "The autoreload extension is already loaded. To reload it, use:\n",
      "  %reload_ext autoreload\n"
     ]
    }
   ],
   "source": [
    "#%matplotlib widget\n",
    "%load_ext autoreload\n",
    "%autoreload 2\n",
    "import sys\n",
    "sys.path.insert(0, '..')\n",
    "import pickle\n",
    "from results_functions import *\n",
    "from matplotlib.ticker import FormatStrFormatter\n",
    "import numpy as np"
   ]
  },
  {
   "cell_type": "code",
   "execution_count": 7,
   "id": "73e91c1e",
   "metadata": {},
   "outputs": [
    {
     "data": {
      "text/plain": [
       "<matplotlib.pyplot._IoffContext at 0x7f5e5c127f50>"
      ]
     },
     "execution_count": 7,
     "metadata": {},
     "output_type": "execute_result"
    }
   ],
   "source": [
    "plt.ioff()"
   ]
  },
  {
   "cell_type": "markdown",
   "id": "0804c90c",
   "metadata": {},
   "source": [
    "## Room 3x3"
   ]
  },
  {
   "cell_type": "code",
   "execution_count": 8,
   "id": "88ee1353",
   "metadata": {},
   "outputs": [],
   "source": [
    "results_dir = '../results_grid_3_3'\n",
    "\n",
    "V1 = get_MAE_HL_errors(f'{results_dir}/grid_3_3_1_v1_666.pkl', '$V_1$-IL', 5000, 10, (8, 5), key=(5000,500))[2]\n",
    "V2 = get_MAE_HL_errors(f'{results_dir}/grid_3_3_1_v2_666.pkl', '$V_2$-IL', 5000, 10, (8, 5), key=(5000,500))[2]\n",
    "V3 = get_MAE_HL_errors(f'{results_dir}/grid_3_3_1_v3_666.pkl', '$V_3$-IL', 5000, 10, (8, 5), key=(10000,1500))[2]\n",
    "plain = get_MAE_plain_Z_learning(f'{results_dir}/grid_3_3_1_flat_666.pkl', 'Z-learning+IS', 5000, 10)\n",
    "\n",
    "errors_dir = 'errors/errors_room3x3'\n",
    "\n",
    "np.savetxt(f'{errors_dir}/NROOMS_errors_zV1_3.txt', V1)\n",
    "np.savetxt(f'{errors_dir}/NROOMS_errors_zV2_3.txt', V2)\n",
    "np.savetxt(f'{errors_dir}/NROOMS_errors_zV3_3.txt', V3)\n",
    "np.savetxt(f'{errors_dir}/NROOMS_errors_z_plain_3.txt', plain)"
   ]
  },
  {
   "cell_type": "markdown",
   "id": "71e73fca",
   "metadata": {},
   "source": [
    "## Room 5x5"
   ]
  },
  {
   "cell_type": "code",
   "execution_count": 12,
   "id": "39df3974",
   "metadata": {},
   "outputs": [],
   "source": [
    "results_dir = '../results_grid_5_5_3'\n",
    "\n",
    "V1 = get_MAE_HL_errors(f'{results_dir}/grid_5_5_1_3_v1_444.pkl', '$V_1$-IL', 5000, 10, (8, 5))[2]\n",
    "V2 = get_MAE_HL_errors(f'{results_dir}/grid_5_5_1_3_v2_444.pkl', '$V_2$-IL', 5000, 10, (8, 5))[2]\n",
    "V3 = get_MAE_HL_errors(f'{results_dir}/grid_5_5_1_3_v3_444.pkl', '$V_3$-IL', 5000, 10, (8, 5))[2]\n",
    "plain = get_MAE_plain_Z_learning(f'{results_dir}/grid_5_5_1_3_flat_444.pkl', 'Z-learning+IS', 5000, 100)\n",
    "\n",
    "errors_dir = 'errors/errors_room5x5'\n",
    "\n",
    "np.savetxt(f'{errors_dir}/NROOMS_errors_zV1_5.txt', V1)\n",
    "np.savetxt(f'{errors_dir}/NROOMS_errors_zV2_5.txt', V2)\n",
    "np.savetxt(f'{errors_dir}/NROOMS_errors_zV3_5.txt', V3)\n",
    "np.savetxt(f'{errors_dir}/NROOMS_errors_z_plain_5.txt', plain)"
   ]
  },
  {
   "cell_type": "markdown",
   "id": "e5b5e7c9",
   "metadata": {},
   "source": [
    "## Room 8x8"
   ]
  },
  {
   "cell_type": "code",
   "execution_count": 14,
   "id": "2e780650",
   "metadata": {},
   "outputs": [],
   "source": [
    "results_dir = '../results_grid_8_8'\n",
    "\n",
    "res_v1 = get_MAE_HL_errors(f'{results_dir}/grid_8_8_1_v1_333.pkl', '$V_1$-IL', 5000, 10, (8, 5))[2]\n",
    "res_v2 = get_MAE_HL_errors(f'{results_dir}/grid_8_8_1_v2_333.pkl', '$V_2$-IL', 5000, 10, (8, 5))[2]\n",
    "res_v3 = get_MAE_HL_errors(f'{results_dir}/grid_8_8_1_v3_333.pkl', '$V_3$-IL', 5000, 10, (8, 5))[2]\n",
    "res_plain = get_MAE_plain_Z_learning(f'{results_dir}/grid_8_8_1_flat_333.pkl', 'Z-learning+IS', 5000, 100)\n",
    "\n",
    "errors_dir = 'errors/errors_room8x8'\n",
    "\n",
    "np.savetxt(f'{errors_dir}/NROOMS_errors_zV1_8.txt', V1)\n",
    "np.savetxt(f'{errors_dir}/NROOMS_errors_zV2_8.txt', V2)\n",
    "np.savetxt(f'{errors_dir}/NROOMS_errors_zV3_8.txt', V3)\n",
    "np.savetxt(f'{errors_dir}/NROOMS_errors_z_plain_8.txt', plain)"
   ]
  },
  {
   "cell_type": "code",
   "execution_count": null,
   "id": "74410aaf",
   "metadata": {},
   "outputs": [],
   "source": []
  }
 ],
 "metadata": {
  "kernelspec": {
   "display_name": "Python 3 (ipykernel)",
   "language": "python",
   "name": "python3"
  },
  "language_info": {
   "codemirror_mode": {
    "name": "ipython",
    "version": 3
   },
   "file_extension": ".py",
   "mimetype": "text/x-python",
   "name": "python",
   "nbconvert_exporter": "python",
   "pygments_lexer": "ipython3",
   "version": "3.7.8"
  }
 },
 "nbformat": 4,
 "nbformat_minor": 5
}
