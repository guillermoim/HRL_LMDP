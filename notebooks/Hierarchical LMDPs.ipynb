{
 "cells": [
  {
   "cell_type": "code",
   "execution_count": null,
   "metadata": {},
   "outputs": [],
   "source": [
    "%matplotlib widget\n",
    "%load_ext autoreload\n",
    "%autoreload 2\n",
    "import sys\n",
    "sys.path.insert(0, '..')\n",
    "import networkx as nx\n",
    "import numpy as np\n",
    "import matplotlib.pyplot as plt\n",
    "from mpl_toolkits.mplot3d import Axes3D\n",
    "import itertools\n",
    "from matplotlib import cm\n",
    "from lmdps import lmdps\n",
    "import math\n",
    "from scipy.special import kl_div\n",
    "import torch\n",
    "from sklearn.preprocessing import MinMaxScaler\n",
    "from scipy import sparse\n",
    "import time"
   ]
  },
  {
   "cell_type": "markdown",
   "metadata": {},
   "source": [
    "#  Abstract Rooms"
   ]
  },
  {
   "cell_type": "markdown",
   "metadata": {},
   "source": [
    "<img src=\"pictures/room.png\" alt=\"\" width=\"250\" height=\"250\">"
   ]
  },
  {
   "cell_type": "markdown",
   "metadata": {},
   "source": [
    "Plot the value functions for TOP"
   ]
  },
  {
   "cell_type": "code",
   "execution_count": 2,
   "metadata": {},
   "outputs": [
    {
     "data": {
      "text/plain": [
       "\"Z = T[:-4].reshape(5, 5)\\nss = 'TOP Reward'\\nfig = lmdps.plot_Z_function(ss, N_DIM, Z, np.log(Z))\\nfig.show()\""
      ]
     },
     "execution_count": 2,
     "metadata": {},
     "output_type": "execute_result"
    }
   ],
   "source": [
    "'''Z = T[:-4].reshape(5, 5)\n",
    "ss = 'TOP Reward'\n",
    "fig = lmdps.plot_Z_function(ss, N_DIM, Z, np.log(Z))\n",
    "fig.show()'''"
   ]
  },
  {
   "cell_type": "markdown",
   "metadata": {},
   "source": [
    "# Room with goal"
   ]
  },
  {
   "cell_type": "code",
   "execution_count": 7,
   "metadata": {},
   "outputs": [],
   "source": [
    "N_DIM = 5\n",
    "terminal={(-1, 2): (0, 2), (2, -1): (2, 0), (2, 5): (2, 4), (5, 2): (4, 2)}\n",
    "P_goal, newmapping = lmdps.create_room_hierarchical(N_DIM, terminal, goals=[8])"
   ]
  },
  {
   "cell_type": "code",
   "execution_count": 8,
   "metadata": {},
   "outputs": [],
   "source": [
    "# T, L , R, B -> 50, 51, 52, 53\n",
    "terminal_GOAL = {'GOAL': 8, 'GOAL_TOP': 25, 'GOAL_LEFT': 26, 'GOAL_RIGHT':27, 'GOAL_BOTTOM':28}\n",
    "\n",
    "P_goal[terminal_GOAL['GOAL'], :] = 0.\n",
    "P_goal[terminal_GOAL['GOAL'], terminal_GOAL['GOAL']] = 1.\n",
    "\n",
    "goals = {}\n",
    "\n",
    "for s in terminal_GOAL:\n",
    "    q = np.full((P_goal.shape[0], 1), -1)\n",
    "    q[terminal_GOAL[s], :] = 0\n",
    "    goals[s] = lmdps.solve_lmdp(P_goal, q)\n",
    "    \n",
    "GOAL = goals['GOAL']\n",
    "GOAL_T = goals['GOAL_TOP']\n",
    "GOAL_L = goals['GOAL_LEFT']\n",
    "GOAL_R = goals['GOAL_RIGHT']\n",
    "GOAL_B = goals['GOAL_BOTTOM']\n",
    "\n",
    "scl = MinMaxScaler()\n",
    "\n",
    "scl.fit(GOAL)\n",
    "GOAL = scl.transform(GOAL)\n",
    "\n",
    "scl.fit(GOAL_T)\n",
    "GOAL_T = scl.transform(GOAL_T)\n",
    "\n",
    "scl.fit(GOAL_L)\n",
    "GOAL_L = scl.transform(GOAL_L)\n",
    "\n",
    "scl.fit(GOAL_R)\n",
    "GOAL_R = scl.transform(GOAL_R)\n",
    "\n",
    "scl.fit(GOAL_B)\n",
    "GOAL_B = scl.transform(GOAL_B)"
   ]
  },
  {
   "cell_type": "code",
   "execution_count": 9,
   "metadata": {},
   "outputs": [
    {
     "data": {
      "application/vnd.jupyter.widget-view+json": {
       "model_id": "e055e02b1bc64fab8e3aa7cce23c8543",
       "version_major": 2,
       "version_minor": 0
      },
      "text/plain": [
       "Canvas(toolbar=Toolbar(toolitems=[('Home', 'Reset original view', 'home', 'home'), ('Back', 'Back to previous …"
      ]
     },
     "metadata": {},
     "output_type": "display_data"
    }
   ],
   "source": [
    "GOAL_ = GOAL[:-4].reshape(5, 5)\n",
    "ss = 'ROOM with goal @ (1,4)'\n",
    "fig = lmdps.plot_Z_function(ss, N_DIM, GOAL_, np.log(GOAL_))\n",
    "fig.show()"
   ]
  },
  {
   "cell_type": "markdown",
   "metadata": {},
   "source": [
    "# High-Level MDP"
   ]
  },
  {
   "cell_type": "markdown",
   "metadata": {},
   "source": [
    "<img src=\"pictures/setting.png\" alt=\"\" width=\"250\" height=\"250\">"
   ]
  },
  {
   "cell_type": "markdown",
   "metadata": {},
   "source": [
    "For each equivalence class we have computed $Z_1^*(s),...,Z_k^*(s)$ are known for each state $s$. When computing the values at the top level, the exponenetiated reward in the terminal states $t_1,\\dots, t_k$ is given by the current _Z-values_ in those states, i.e. $Z(t_1), \\dots, Z(t_k)$. Hence the top-level Bellman equation for state s is given by\n",
    "\n",
    "\\begin{equation}\n",
    "Z(s) = Z(t_1) Z_1^*(s) + \\dots + Z(t_k) Z_k^*(s)\n",
    "\\end{equation}\n",
    "\n",
    "We can write this in matrix form as $Z = QZ$, where each entry of $Q$ equals $Q_{ij} = 0$ if $s_j$ is not a terminal state in the LMDP for $s_i$, and $Q_{ij} = Z^*_{l}(s_i)$ if $s_j$ is the $l$-th terminal state in the LMDP for $s_i$."
   ]
  },
  {
   "cell_type": "markdown",
   "metadata": {},
   "source": [
    "Therefore, in $Q$ we have "
   ]
  },
  {
   "cell_type": "code",
   "execution_count": 10,
   "metadata": {},
   "outputs": [
    {
     "data": {
      "text/plain": [
       "'#N_terminal = 19\\n#Q = np.full((N_terminal, N_terminal), 0)\\nroom_1 = (B + R).copy()\\nroom_2 = (L + R + B).copy()\\nroom_3 = (GOAL + GOAL_L + GOAL_B).copy()\\nroom_4 = (T + R + B).copy()\\nroom_5 = (T + L + R + B).copy()\\nroom_6 = (T + L + B).copy()\\nroom_7 = (T + R).copy()\\nroom_8 = (T + L + R).copy()\\nroom_9 = (T + L).copy()'"
      ]
     },
     "execution_count": 10,
     "metadata": {},
     "output_type": "execute_result"
    }
   ],
   "source": [
    "'''#N_terminal = 19\n",
    "#Q = np.full((N_terminal, N_terminal), 0)\n",
    "room_1 = (B + R).copy()\n",
    "room_2 = (L + R + B).copy()\n",
    "room_3 = (GOAL + GOAL_L + GOAL_B).copy()\n",
    "room_4 = (T + R + B).copy()\n",
    "room_5 = (T + L + R + B).copy()\n",
    "room_6 = (T + L + B).copy()\n",
    "room_7 = (T + R).copy()\n",
    "room_8 = (T + L + R).copy()\n",
    "room_9 = (T + L).copy()'''"
   ]
  },
  {
   "cell_type": "markdown",
   "metadata": {},
   "source": [
    "###### start_H = time.time()\n",
    "\n",
    "for _ in range(10000):\n",
    "    room_1 = room_2[10] * R + room_4[2] * B\n",
    "    room_2 = L * room_1[14] + R * room_3[10] + B * room_5[2]\n",
    "    room_3 = room_2[14] * GOAL_L + room_6[2] * GOAL_B + room_3[8] * GOAL\n",
    "    room_4 = room_1[22] * T + room_5[10] * R + room_7[2] * B\n",
    "    room_5 = room_2[22] * T + room_6[10] * R + room_4[14] * L + room_8[2] * B\n",
    "    room_6 = room_3[22] * T + room_5[14] * L + room_9[2] * B\n",
    "    room_7 = room_4[22] * T + room_8[10] * R\n",
    "    room_8 = room_5[22] * T + room_9[10] * R + room_7[14] * L\n",
    "    room_9 = room_6[22] * T + room_8[14] * L\n",
    "\n",
    "end_H = time.time()\n",
    "print('Time hierarchical', end_H-start_H)"
   ]
  },
  {
   "cell_type": "code",
   "execution_count": 566,
   "metadata": {},
   "outputs": [
    {
     "ename": "NameError",
     "evalue": "name 'room_1' is not defined",
     "output_type": "error",
     "traceback": [
      "\u001B[0;31m---------------------------------------------------------------------------\u001B[0m",
      "\u001B[0;31mNameError\u001B[0m                                 Traceback (most recent call last)",
      "\u001B[0;32m<ipython-input-566-db4e8df33bfc>\u001B[0m in \u001B[0;36m<module>\u001B[0;34m\u001B[0m\n\u001B[1;32m      1\u001B[0m \u001B[0mZ_OPT\u001B[0m \u001B[0;34m=\u001B[0m \u001B[0mnp\u001B[0m\u001B[0;34m.\u001B[0m\u001B[0mzeros\u001B[0m\u001B[0;34m(\u001B[0m\u001B[0;34m(\u001B[0m\u001B[0;36m15\u001B[0m\u001B[0;34m,\u001B[0m \u001B[0;36m15\u001B[0m\u001B[0;34m)\u001B[0m\u001B[0;34m)\u001B[0m\u001B[0;34m\u001B[0m\u001B[0;34m\u001B[0m\u001B[0m\n\u001B[0;32m----> 2\u001B[0;31m \u001B[0mZ_OPT\u001B[0m\u001B[0;34m[\u001B[0m\u001B[0;34m:\u001B[0m\u001B[0;36m5\u001B[0m\u001B[0;34m,\u001B[0m \u001B[0;34m:\u001B[0m\u001B[0;36m5\u001B[0m\u001B[0;34m]\u001B[0m \u001B[0;34m=\u001B[0m \u001B[0mnp\u001B[0m\u001B[0;34m.\u001B[0m\u001B[0mlog\u001B[0m\u001B[0;34m(\u001B[0m\u001B[0mroom_1\u001B[0m\u001B[0;34m[\u001B[0m\u001B[0;34m:\u001B[0m\u001B[0;34m-\u001B[0m\u001B[0;36m4\u001B[0m\u001B[0;34m]\u001B[0m\u001B[0;34m)\u001B[0m\u001B[0;34m.\u001B[0m\u001B[0mreshape\u001B[0m\u001B[0;34m(\u001B[0m\u001B[0;36m5\u001B[0m\u001B[0;34m,\u001B[0m \u001B[0;36m5\u001B[0m\u001B[0;34m)\u001B[0m\u001B[0;34m\u001B[0m\u001B[0;34m\u001B[0m\u001B[0m\n\u001B[0m\u001B[1;32m      3\u001B[0m \u001B[0mZ_OPT\u001B[0m\u001B[0;34m[\u001B[0m\u001B[0;34m:\u001B[0m\u001B[0;36m5\u001B[0m\u001B[0;34m,\u001B[0m \u001B[0;36m5\u001B[0m\u001B[0;34m:\u001B[0m\u001B[0;36m10\u001B[0m\u001B[0;34m]\u001B[0m \u001B[0;34m=\u001B[0m \u001B[0mnp\u001B[0m\u001B[0;34m.\u001B[0m\u001B[0mlog\u001B[0m\u001B[0;34m(\u001B[0m\u001B[0mroom_2\u001B[0m\u001B[0;34m[\u001B[0m\u001B[0;34m:\u001B[0m\u001B[0;34m-\u001B[0m\u001B[0;36m4\u001B[0m\u001B[0;34m]\u001B[0m\u001B[0;34m)\u001B[0m\u001B[0;34m.\u001B[0m\u001B[0mreshape\u001B[0m\u001B[0;34m(\u001B[0m\u001B[0;36m5\u001B[0m\u001B[0;34m,\u001B[0m \u001B[0;36m5\u001B[0m\u001B[0;34m)\u001B[0m\u001B[0;34m\u001B[0m\u001B[0;34m\u001B[0m\u001B[0m\n\u001B[1;32m      4\u001B[0m \u001B[0mZ_OPT\u001B[0m\u001B[0;34m[\u001B[0m\u001B[0;34m:\u001B[0m\u001B[0;36m5\u001B[0m\u001B[0;34m,\u001B[0m \u001B[0;36m10\u001B[0m\u001B[0;34m:\u001B[0m\u001B[0;34m]\u001B[0m \u001B[0;34m=\u001B[0m \u001B[0mnp\u001B[0m\u001B[0;34m.\u001B[0m\u001B[0mlog\u001B[0m\u001B[0;34m(\u001B[0m\u001B[0mroom_3\u001B[0m\u001B[0;34m[\u001B[0m\u001B[0;34m:\u001B[0m\u001B[0;34m-\u001B[0m\u001B[0;36m4\u001B[0m\u001B[0;34m]\u001B[0m\u001B[0;34m)\u001B[0m\u001B[0;34m.\u001B[0m\u001B[0mreshape\u001B[0m\u001B[0;34m(\u001B[0m\u001B[0;36m5\u001B[0m\u001B[0;34m,\u001B[0m \u001B[0;36m5\u001B[0m\u001B[0;34m)\u001B[0m\u001B[0;34m\u001B[0m\u001B[0;34m\u001B[0m\u001B[0m\n\u001B[1;32m      5\u001B[0m \u001B[0;34m\u001B[0m\u001B[0m\n",
      "\u001B[0;31mNameError\u001B[0m: name 'room_1' is not defined"
     ]
    }
   ],
   "source": [
    "Z_OPT = np.zeros((15, 15))\n",
    "Z_OPT[:5, :5] = np.log(room_1[:-4]).reshape(5, 5)\n",
    "Z_OPT[:5, 5:10] = np.log(room_2[:-4]).reshape(5, 5)\n",
    "Z_OPT[:5, 10:] = np.log(room_3[:-4]).reshape(5, 5)\n",
    "\n",
    "Z_OPT[5:10, :5] = np.log(room_4[:-4]).reshape(5, 5)\n",
    "Z_OPT[5:10, 5:10] = np.log(room_5[:-4]).reshape(5, 5)\n",
    "Z_OPT[5:10, 10:] = np.log(room_6[:-4]).reshape(5, 5)\n",
    "\n",
    "Z_OPT[10:, :5] = np.log(room_7[:-4]).reshape(5, 5)\n",
    "Z_OPT[10:, 5:10] = np.log(room_8[:-4]).reshape(5, 5)\n",
    "Z_OPT[10:, 10:] = np.log(room_9[:-4]).reshape(5, 5)"
   ]
  },
  {
   "cell_type": "code",
   "execution_count": 567,
   "metadata": {},
   "outputs": [
    {
     "data": {
      "text/plain": [
       "\"figure = plt.figure(figsize=(9, 9))\\naxes = figure.add_subplot(111)\\naxes.set_title('Composed hierarchical MDP')\\ncaxes = axes.matshow(Z_OPT, interpolation ='nearest') \\n\\nfor (i, j), data in np.ndenumerate(Z_OPT):\\n  \\n    axes.text(j, i, '{:0.2f}'.format(data), ha='center', va='center')\\n\\nplt.show()\""
      ]
     },
     "execution_count": 567,
     "metadata": {},
     "output_type": "execute_result"
    }
   ],
   "source": [
    "'''figure = plt.figure(figsize=(9, 9))\n",
    "axes = figure.add_subplot(111)\n",
    "axes.set_title('Composed hierarchical MDP')\n",
    "caxes = axes.matshow(Z_OPT, interpolation ='nearest') \n",
    "\n",
    "for (i, j), data in np.ndenumerate(Z_OPT):\n",
    "  \n",
    "    axes.text(j, i, '{:0.2f}'.format(data), ha='center', va='center')\n",
    "\n",
    "plt.show()'''"
   ]
  },
  {
   "cell_type": "markdown",
   "metadata": {},
   "source": [
    "# Solving the flat MDP\n",
    "<img src=\"pictures/setting.png\" alt=\"\" width=\"200\" height=\"200\">\n"
   ]
  },
  {
   "cell_type": "code",
   "execution_count": 28,
   "metadata": {},
   "outputs": [
    {
     "name": "stdout",
     "output_type": "stream",
     "text": [
      "Sparse matrices time 3.0230870246887207\n"
     ]
    }
   ],
   "source": [
    "P, G, z = lmdps.create_flat_MDP((2,2), R_DIM, {(2,2):18})\n",
    "\n",
    "# Sparse\n",
    "start_B = time.time()\n",
    "for _ in range(10000):\n",
    "    z = G * P * z\n",
    "    \n",
    "end_B = time.time()\n",
    "\n",
    "print('Sparse matrices time', end_B - start_B)"
   ]
  },
  {
   "cell_type": "code",
   "execution_count": 29,
   "metadata": {},
   "outputs": [
    {
     "name": "stderr",
     "output_type": "stream",
     "text": [
      "/Users/guillermo/.pyenv/versions/3.7.5/envs/rl_env/lib/python3.7/site-packages/ipykernel_launcher.py:2: RuntimeWarning: divide by zero encountered in log\n",
      "  \n"
     ]
    },
    {
     "data": {
      "application/vnd.jupyter.widget-view+json": {
       "model_id": "f18019fca36a4dcd8bb45a28df074d4e",
       "version_major": 2,
       "version_minor": 0
      },
      "text/plain": [
       "Canvas(toolbar=Toolbar(toolitems=[('Home', 'Reset original view', 'home', 'home'), ('Back', 'Back to previous …"
      ]
     },
     "metadata": {},
     "output_type": "display_data"
    }
   ],
   "source": [
    "Z = z.todense().copy()\n",
    "V = np.log(Z)[:-8].reshape(10, 10)\n",
    "\n",
    "figure = plt.figure(figsize=(10, 10))\n",
    "axes = figure.add_subplot(111)\n",
    "axes.set_title('Value function (np.log(Z)) for the Flat MDP')\n",
    "caxes = axes.matshow(V, interpolation ='nearest') \n",
    "\n",
    "for (i, j), data in np.ndenumerate(V):\n",
    "    axes.text(j, i, '{:0.2f}'.format(data), ha='center', va='center')\n",
    "\n",
    "plt.show()"
   ]
  },
  {
   "cell_type": "markdown",
   "metadata": {},
   "source": [
    "## Measure Differences"
   ]
  },
  {
   "cell_type": "markdown",
   "metadata": {},
   "source": [
    "## <span style=\"color: purple;\"> Experiments  </span>"
   ]
  },
  {
   "cell_type": "code",
   "execution_count": 2,
   "metadata": {},
   "outputs": [],
   "source": [
    "experiments = [((2,2), {(0,1):8}),\n",
    "               ((3,3), {(0,2):8}),\n",
    "               ((4,4), {(0,3):8}),\n",
    "               ((5,5), {(0,4):8}),\n",
    "               ((6,6), {(0,5):8}),\n",
    "               ((7,7), {(0,6):8}),\n",
    "               ((8,8), {(0,7):8}),\n",
    "              ]"
   ]
  },
  {
   "cell_type": "code",
   "execution_count": 3,
   "metadata": {},
   "outputs": [
    {
     "name": "stderr",
     "output_type": "stream",
     "text": [
      "/Users/guillermo/.pyenv/versions/3.7.5/envs/rl_env/lib/python3.7/site-packages/scipy/sparse/_index.py:124: SparseEfficiencyWarning: Changing the sparsity structure of a csr_matrix is expensive. lil_matrix is more efficient.\n",
      "  self._set_arrayXarray(i, j, x)\n",
      "/Users/guillermo/.pyenv/versions/3.7.5/envs/rl_env/lib/python3.7/site-packages/scipy/sparse/_index.py:82: SparseEfficiencyWarning: Changing the sparsity structure of a csr_matrix is expensive. lil_matrix is more efficient.\n",
      "  self._set_intXint(row, col, x.flat[0])\n",
      "/Users/guillermo/.pyenv/versions/3.7.5/envs/rl_env/lib/python3.7/site-packages/scipy/sparse/_index.py:124: SparseEfficiencyWarning: Changing the sparsity structure of a csr_matrix is expensive. lil_matrix is more efficient.\n",
      "  self._set_arrayXarray(i, j, x)\n",
      "/Users/guillermo/.pyenv/versions/3.7.5/envs/rl_env/lib/python3.7/site-packages/scipy/sparse/_index.py:82: SparseEfficiencyWarning: Changing the sparsity structure of a csr_matrix is expensive. lil_matrix is more efficient.\n",
      "  self._set_intXint(row, col, x.flat[0])\n",
      "/Users/guillermo/.pyenv/versions/3.7.5/envs/rl_env/lib/python3.7/site-packages/scipy/sparse/_index.py:124: SparseEfficiencyWarning: Changing the sparsity structure of a csr_matrix is expensive. lil_matrix is more efficient.\n",
      "  self._set_arrayXarray(i, j, x)\n",
      "/Users/guillermo/.pyenv/versions/3.7.5/envs/rl_env/lib/python3.7/site-packages/scipy/sparse/_index.py:82: SparseEfficiencyWarning: Changing the sparsity structure of a csr_matrix is expensive. lil_matrix is more efficient.\n",
      "  self._set_intXint(row, col, x.flat[0])\n",
      "/Users/guillermo/.pyenv/versions/3.7.5/envs/rl_env/lib/python3.7/site-packages/scipy/sparse/_index.py:124: SparseEfficiencyWarning: Changing the sparsity structure of a csr_matrix is expensive. lil_matrix is more efficient.\n",
      "  self._set_arrayXarray(i, j, x)\n",
      "/Users/guillermo/.pyenv/versions/3.7.5/envs/rl_env/lib/python3.7/site-packages/scipy/sparse/_index.py:82: SparseEfficiencyWarning: Changing the sparsity structure of a csr_matrix is expensive. lil_matrix is more efficient.\n",
      "  self._set_intXint(row, col, x.flat[0])\n",
      "/Users/guillermo/.pyenv/versions/3.7.5/envs/rl_env/lib/python3.7/site-packages/scipy/sparse/_index.py:124: SparseEfficiencyWarning: Changing the sparsity structure of a csr_matrix is expensive. lil_matrix is more efficient.\n",
      "  self._set_arrayXarray(i, j, x)\n",
      "/Users/guillermo/.pyenv/versions/3.7.5/envs/rl_env/lib/python3.7/site-packages/scipy/sparse/_index.py:82: SparseEfficiencyWarning: Changing the sparsity structure of a csr_matrix is expensive. lil_matrix is more efficient.\n",
      "  self._set_intXint(row, col, x.flat[0])\n"
     ]
    },
    {
     "ename": "KeyboardInterrupt",
     "evalue": "",
     "output_type": "error",
     "traceback": [
      "\u001B[0;31m---------------------------------------------------------------------------\u001B[0m",
      "\u001B[0;31mKeyboardInterrupt\u001B[0m                         Traceback (most recent call last)",
      "\u001B[0;32m<ipython-input-3-286561db2b51>\u001B[0m in \u001B[0;36m<module>\u001B[0;34m\u001B[0m\n\u001B[1;32m     36\u001B[0m     \u001B[0;31m# Dense\u001B[0m\u001B[0;34m\u001B[0m\u001B[0;34m\u001B[0m\u001B[0;34m\u001B[0m\u001B[0m\n\u001B[1;32m     37\u001B[0m     \u001B[0;32mfor\u001B[0m \u001B[0m_\u001B[0m \u001B[0;32min\u001B[0m \u001B[0mrange\u001B[0m\u001B[0;34m(\u001B[0m\u001B[0mN_iter\u001B[0m\u001B[0;34m)\u001B[0m\u001B[0;34m:\u001B[0m\u001B[0;34m\u001B[0m\u001B[0;34m\u001B[0m\u001B[0m\n\u001B[0;32m---> 38\u001B[0;31m         \u001B[0mz_dense\u001B[0m \u001B[0;34m=\u001B[0m \u001B[0mG_dense\u001B[0m \u001B[0;34m*\u001B[0m \u001B[0mP_dense\u001B[0m \u001B[0;34m*\u001B[0m \u001B[0mz_dense\u001B[0m\u001B[0;34m\u001B[0m\u001B[0;34m\u001B[0m\u001B[0m\n\u001B[0m\u001B[1;32m     39\u001B[0m     \u001B[0mend_dense\u001B[0m \u001B[0;34m=\u001B[0m \u001B[0mtime\u001B[0m\u001B[0;34m.\u001B[0m\u001B[0mtime\u001B[0m\u001B[0;34m(\u001B[0m\u001B[0;34m)\u001B[0m\u001B[0;34m\u001B[0m\u001B[0;34m\u001B[0m\u001B[0m\n\u001B[1;32m     40\u001B[0m \u001B[0;34m\u001B[0m\u001B[0m\n",
      "\u001B[0;32m~/.pyenv/versions/3.7.5/envs/rl_env/lib/python3.7/site-packages/numpy/matrixlib/defmatrix.py\u001B[0m in \u001B[0;36m__mul__\u001B[0;34m(self, other)\u001B[0m\n\u001B[1;32m    216\u001B[0m         \u001B[0;32mif\u001B[0m \u001B[0misinstance\u001B[0m\u001B[0;34m(\u001B[0m\u001B[0mother\u001B[0m\u001B[0;34m,\u001B[0m \u001B[0;34m(\u001B[0m\u001B[0mN\u001B[0m\u001B[0;34m.\u001B[0m\u001B[0mndarray\u001B[0m\u001B[0;34m,\u001B[0m \u001B[0mlist\u001B[0m\u001B[0;34m,\u001B[0m \u001B[0mtuple\u001B[0m\u001B[0;34m)\u001B[0m\u001B[0;34m)\u001B[0m \u001B[0;34m:\u001B[0m\u001B[0;34m\u001B[0m\u001B[0;34m\u001B[0m\u001B[0m\n\u001B[1;32m    217\u001B[0m             \u001B[0;31m# This promotes 1-D vectors to row vectors\u001B[0m\u001B[0;34m\u001B[0m\u001B[0;34m\u001B[0m\u001B[0;34m\u001B[0m\u001B[0m\n\u001B[0;32m--> 218\u001B[0;31m             \u001B[0;32mreturn\u001B[0m \u001B[0mN\u001B[0m\u001B[0;34m.\u001B[0m\u001B[0mdot\u001B[0m\u001B[0;34m(\u001B[0m\u001B[0mself\u001B[0m\u001B[0;34m,\u001B[0m \u001B[0masmatrix\u001B[0m\u001B[0;34m(\u001B[0m\u001B[0mother\u001B[0m\u001B[0;34m)\u001B[0m\u001B[0;34m)\u001B[0m\u001B[0;34m\u001B[0m\u001B[0;34m\u001B[0m\u001B[0m\n\u001B[0m\u001B[1;32m    219\u001B[0m         \u001B[0;32mif\u001B[0m \u001B[0misscalar\u001B[0m\u001B[0;34m(\u001B[0m\u001B[0mother\u001B[0m\u001B[0;34m)\u001B[0m \u001B[0;32mor\u001B[0m \u001B[0;32mnot\u001B[0m \u001B[0mhasattr\u001B[0m\u001B[0;34m(\u001B[0m\u001B[0mother\u001B[0m\u001B[0;34m,\u001B[0m \u001B[0;34m'__rmul__'\u001B[0m\u001B[0;34m)\u001B[0m \u001B[0;34m:\u001B[0m\u001B[0;34m\u001B[0m\u001B[0;34m\u001B[0m\u001B[0m\n\u001B[1;32m    220\u001B[0m             \u001B[0;32mreturn\u001B[0m \u001B[0mN\u001B[0m\u001B[0;34m.\u001B[0m\u001B[0mdot\u001B[0m\u001B[0;34m(\u001B[0m\u001B[0mself\u001B[0m\u001B[0;34m,\u001B[0m \u001B[0mother\u001B[0m\u001B[0;34m)\u001B[0m\u001B[0;34m\u001B[0m\u001B[0;34m\u001B[0m\u001B[0m\n",
      "\u001B[0;32m<__array_function__ internals>\u001B[0m in \u001B[0;36mdot\u001B[0;34m(*args, **kwargs)\u001B[0m\n",
      "\u001B[0;31mKeyboardInterrupt\u001B[0m: "
     ]
    }
   ],
   "source": [
    "R_DIM =  5\n",
    "N_iter = 10000 # 10k\n",
    "\n",
    "times_H = {}\n",
    "times_dense = {}\n",
    "times_sparse = {}\n",
    "\n",
    "for (rooms, goals) in experiments:\n",
    "    \n",
    "    # Hierarchical execution\n",
    "    start_H = time.time()\n",
    "    Z_H = lmdps.hierarchical_solver(rooms, R_DIM, goals, N_iter)\n",
    "    end_H = time.time()\n",
    "    time_H = end_H - start_H\n",
    "    \n",
    "    # Sparse and dense execution\n",
    "    # Creation\n",
    "    start_creation_time = time.time()\n",
    "    P, G, z = lmdps.create_flat_MDP(rooms, R_DIM, goals)\n",
    "    end_creation_time = time.time()\n",
    "    \n",
    "    creation_time = end_creation_time - start_creation_time\n",
    "    \n",
    "    # Sparse\n",
    "    start_sparse = time.time()\n",
    "    for _ in range(N_iter):\n",
    "        z = G * P * z\n",
    "    end_sparse = time.time()\n",
    "\n",
    "    # Dense\n",
    "    start_dense = time.time()\n",
    "    P_dense = P.copy().todense()\n",
    "    G_dense = G.copy().todense()\n",
    "    z_dense = z.copy().todense()\n",
    "\n",
    "    # Dense\n",
    "    for _ in range(N_iter):\n",
    "        z_dense = G_dense * P_dense * z_dense\n",
    "    end_dense = time.time()\n",
    "    \n",
    "    time_sparse = creation_time + (end_sparse - start_sparse)\n",
    "    time_dense = creation_time + (end_dense - start_dense)\n",
    "    \n",
    "    times_H[rooms] = time_H\n",
    "    times_dense[rooms] = time_dense\n",
    "    times_sparse[rooms] = time_sparse"
   ]
  },
  {
   "cell_type": "code",
   "execution_count": 6,
   "metadata": {},
   "outputs": [
    {
     "ename": "NameError",
     "evalue": "name 'Z' is not defined",
     "output_type": "error",
     "traceback": [
      "\u001B[0;31m---------------------------------------------------------------------------\u001B[0m",
      "\u001B[0;31mNameError\u001B[0m                                 Traceback (most recent call last)",
      "\u001B[0;32m<ipython-input-6-b1e1003942da>\u001B[0m in \u001B[0;36m<module>\u001B[0;34m\u001B[0m\n\u001B[0;32m----> 1\u001B[0;31m \u001B[0mV\u001B[0m \u001B[0;34m=\u001B[0m \u001B[0mnp\u001B[0m\u001B[0;34m.\u001B[0m\u001B[0mlog\u001B[0m\u001B[0;34m(\u001B[0m\u001B[0mZ\u001B[0m\u001B[0;34m)\u001B[0m\u001B[0;34m\u001B[0m\u001B[0;34m\u001B[0m\u001B[0m\n\u001B[0m\u001B[1;32m      2\u001B[0m \u001B[0;34m\u001B[0m\u001B[0m\n\u001B[1;32m      3\u001B[0m \u001B[0mfigure\u001B[0m \u001B[0;34m=\u001B[0m \u001B[0mplt\u001B[0m\u001B[0;34m.\u001B[0m\u001B[0mfigure\u001B[0m\u001B[0;34m(\u001B[0m\u001B[0mfigsize\u001B[0m\u001B[0;34m=\u001B[0m\u001B[0;34m(\u001B[0m\u001B[0;36m10\u001B[0m\u001B[0;34m,\u001B[0m \u001B[0;36m10\u001B[0m\u001B[0;34m)\u001B[0m\u001B[0;34m)\u001B[0m\u001B[0;34m\u001B[0m\u001B[0;34m\u001B[0m\u001B[0m\n\u001B[1;32m      4\u001B[0m \u001B[0maxes\u001B[0m \u001B[0;34m=\u001B[0m \u001B[0mfigure\u001B[0m\u001B[0;34m.\u001B[0m\u001B[0madd_subplot\u001B[0m\u001B[0;34m(\u001B[0m\u001B[0;36m111\u001B[0m\u001B[0;34m)\u001B[0m\u001B[0;34m\u001B[0m\u001B[0;34m\u001B[0m\u001B[0m\n\u001B[1;32m      5\u001B[0m \u001B[0maxes\u001B[0m\u001B[0;34m.\u001B[0m\u001B[0mset_title\u001B[0m\u001B[0;34m(\u001B[0m\u001B[0;34m'Value function (np.log(Z)) for the Flat MDP'\u001B[0m\u001B[0;34m)\u001B[0m\u001B[0;34m\u001B[0m\u001B[0;34m\u001B[0m\u001B[0m\n",
      "\u001B[0;31mNameError\u001B[0m: name 'Z' is not defined"
     ]
    }
   ],
   "source": [
    "V = np.log(Z)\n",
    "\n",
    "figure = plt.figure(figsize=(10, 10))\n",
    "axes = figure.add_subplot(111)\n",
    "axes.set_title('Value function (np.log(Z)) for the Flat MDP')\n",
    "caxes = axes.matshow(V, interpolation ='nearest') \n",
    "\n",
    "for (i, j), data in np.ndenumerate(V):\n",
    "    axes.text(j, i, '{:0.2f}'.format(data), ha='center', va='center')\n",
    "\n",
    "plt.show()"
   ]
  },
  {
   "cell_type": "code",
   "execution_count": 40,
   "metadata": {},
   "outputs": [
    {
     "name": "stdout",
     "output_type": "stream",
     "text": [
      "t_isx [2, 10, 14, 22, 8]\n",
      "(0, 0) [2, 3]\n"
     ]
    },
    {
     "ename": "IndexError",
     "evalue": "index 12 is out of bounds for axis 1 with size 9",
     "output_type": "error",
     "traceback": [
      "\u001B[0;31m---------------------------------------------------------------------------\u001B[0m",
      "\u001B[0;31mIndexError\u001B[0m                                Traceback (most recent call last)",
      "\u001B[0;32m<ipython-input-40-38774c6fd3d9>\u001B[0m in \u001B[0;36m<module>\u001B[0;34m\u001B[0m\n\u001B[0;32m----> 1\u001B[0;31m \u001B[0mZ\u001B[0m \u001B[0;34m=\u001B[0m \u001B[0mlmdps\u001B[0m\u001B[0;34m.\u001B[0m\u001B[0mhierarchical_solver\u001B[0m\u001B[0;34m(\u001B[0m\u001B[0;34m(\u001B[0m\u001B[0;36m2\u001B[0m\u001B[0;34m,\u001B[0m\u001B[0;36m2\u001B[0m\u001B[0;34m)\u001B[0m\u001B[0;34m,\u001B[0m \u001B[0;36m5\u001B[0m\u001B[0;34m,\u001B[0m \u001B[0;34m(\u001B[0m\u001B[0;36m1\u001B[0m\u001B[0;34m,\u001B[0m\u001B[0;36m3\u001B[0m\u001B[0;34m)\u001B[0m\u001B[0;34m,\u001B[0m \u001B[0;34m[\u001B[0m\u001B[0;34m(\u001B[0m\u001B[0;36m0\u001B[0m\u001B[0;34m,\u001B[0m\u001B[0;36m1\u001B[0m\u001B[0;34m)\u001B[0m\u001B[0;34m]\u001B[0m\u001B[0;34m,\u001B[0m \u001B[0;36m100\u001B[0m\u001B[0;34m)\u001B[0m\u001B[0;34m\u001B[0m\u001B[0;34m\u001B[0m\u001B[0m\n\u001B[0m",
      "\u001B[0;32m~/Desktop/PhD/Projects/research/lmdps/lmdps.py\u001B[0m in \u001B[0;36mhierarchical_solver\u001B[0;34m(dims, R_DIM, goal_pos, goal_rooms, n_iter)\u001B[0m\n\u001B[1;32m    364\u001B[0m                 \u001B[0;32mif\u001B[0m \u001B[0mx_\u001B[0m \u001B[0;34m==\u001B[0m \u001B[0mx\u001B[0m \u001B[0;34m+\u001B[0m \u001B[0;36m1\u001B[0m\u001B[0;34m:\u001B[0m\u001B[0;34m\u001B[0m\u001B[0;34m\u001B[0m\u001B[0m\n\u001B[1;32m    365\u001B[0m                     \u001B[0mroom_locs\u001B[0m\u001B[0;34m[\u001B[0m\u001B[0mroom\u001B[0m\u001B[0;34m]\u001B[0m\u001B[0;34m.\u001B[0m\u001B[0mupdate\u001B[0m\u001B[0;34m(\u001B[0m\u001B[0;34m{\u001B[0m\u001B[0;34m'R'\u001B[0m\u001B[0;34m:\u001B[0m \u001B[0;34m(\u001B[0m\u001B[0mneighbor\u001B[0m\u001B[0;34m,\u001B[0m \u001B[0moffsets_by_room\u001B[0m\u001B[0;34m[\u001B[0m\u001B[0mneighbor\u001B[0m\u001B[0;34m]\u001B[0m\u001B[0;34m[\u001B[0m\u001B[0;36m1\u001B[0m\u001B[0;34m]\u001B[0m\u001B[0;34m)\u001B[0m\u001B[0;34m}\u001B[0m\u001B[0;34m)\u001B[0m\u001B[0;34m\u001B[0m\u001B[0;34m\u001B[0m\u001B[0m\n\u001B[0;32m--> 366\u001B[0;31m                     \u001B[0mQ\u001B[0m\u001B[0;34m[\u001B[0m\u001B[0mpos_room\u001B[0m \u001B[0;34m+\u001B[0m \u001B[0mi\u001B[0m\u001B[0;34m,\u001B[0m \u001B[0mpos_neighbor\u001B[0m \u001B[0;34m+\u001B[0m \u001B[0moffsets_by_room\u001B[0m\u001B[0;34m[\u001B[0m\u001B[0mneighbor\u001B[0m\u001B[0;34m]\u001B[0m\u001B[0;34m[\u001B[0m\u001B[0;36m1\u001B[0m\u001B[0;34m]\u001B[0m\u001B[0;34m]\u001B[0m \u001B[0;34m=\u001B[0m \u001B[0mR\u001B[0m\u001B[0;34m[\u001B[0m\u001B[0midx\u001B[0m\u001B[0;34m]\u001B[0m\u001B[0;34m\u001B[0m\u001B[0;34m\u001B[0m\u001B[0m\n\u001B[0m\u001B[1;32m    367\u001B[0m \u001B[0;34m\u001B[0m\u001B[0m\n\u001B[1;32m    368\u001B[0m                 \u001B[0;32mif\u001B[0m \u001B[0mroom\u001B[0m \u001B[0;32min\u001B[0m \u001B[0mgoal_rooms\u001B[0m\u001B[0;34m:\u001B[0m\u001B[0;34m\u001B[0m\u001B[0;34m\u001B[0m\u001B[0m\n",
      "\u001B[0;31mIndexError\u001B[0m: index 12 is out of bounds for axis 1 with size 9"
     ]
    }
   ],
   "source": [
    "Z = lmdps.hierarchical_solver((2,2), 5, (1,3), [(0,1)], 100)"
   ]
  },
  {
   "cell_type": "code",
   "execution_count": null,
   "metadata": {},
   "outputs": [],
   "source": []
  },
  {
   "cell_type": "code",
   "execution_count": null,
   "metadata": {},
   "outputs": [],
   "source": []
  }
 ],
 "metadata": {
  "kernelspec": {
   "display_name": "Python 3",
   "language": "python",
   "name": "python3"
  },
  "language_info": {
   "codemirror_mode": {
    "name": "ipython",
    "version": 3
   },
   "file_extension": ".py",
   "mimetype": "text/x-python",
   "name": "python",
   "nbconvert_exporter": "python",
   "pygments_lexer": "ipython3",
   "version": "3.7.9"
  }
 },
 "nbformat": 4,
 "nbformat_minor": 4
}