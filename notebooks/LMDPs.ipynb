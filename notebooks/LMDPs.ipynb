{
 "cells": [
  {
   "cell_type": "markdown",
   "metadata": {},
   "source": [
    "# Gridworld with Linearly-solvable Markov Decision Problems (LMDP)"
   ]
  },
  {
   "cell_type": "code",
   "execution_count": 194,
   "metadata": {},
   "outputs": [
    {
     "name": "stdout",
     "output_type": "stream",
     "text": [
      "The autoreload extension is already loaded. To reload it, use:\n",
      "  %reload_ext autoreload\n"
     ]
    }
   ],
   "source": [
    "%matplotlib widget\n",
    "%load_ext autoreload\n",
    "%autoreload 2\n",
    "import sys\n",
    "sys.path.insert(0, '..')"
   ]
  },
  {
   "cell_type": "code",
   "execution_count": 195,
   "metadata": {},
   "outputs": [],
   "source": [
    "import numpy as np\n",
    "from lmdps import lmdps\n",
    "from sklearn.preprocessing import MinMaxScaler\n",
    "from lmdps.hierarchical_gridworld import create_gridworld_lmdp\n",
    "from lmdps import plotting\n",
    "import matplotlib.pyplot as plt\n",
    "from scipy.linalg import eig\n",
    "from scipy.special import kl_div"
   ]
  },
  {
   "cell_type": "markdown",
   "metadata": {},
   "source": [
    "Standard formalism of MDPs.\n",
    "- A **finite** set of states $\\mathcal S$ \n",
    "- A set of admissible controls at state $i$ $U(i)$ (action set $\\mathcal A$)\n",
    "- A cost for being at state $i \\in S$ and taking $u\\in U(i)$, $c(i, u)$ (or reward $r(i, u)$)\n",
    "- A stochastic matrix $P(u)$ whose element $p_{ij}(u)$ is a transition probability from state $i$ to $j$ under control $u$.\n",
    "\n",
    "#### <span style='color: red;'> His setting </span>\n",
    "- A **non-empty** subset $\\mathcal A \\subseteq S$ of absorbing states with  $p_{ij}(u) = \\delta_i^j$ and $c(i,u)=0 \\ \\forall i \\in A$ \n",
    "- Undiscounted, infinite-horizon optimal value function is $v(i) = \\min_{u \\in U(i)}\\{c(i,u) + \\sum_j p_{ij}(u) v(j)\\}$\n",
    "\n",
    "# <span style='color: #8d44ab;'>Original formulation (Todorov, 2006)</span>\n",
    "\n",
    "### Linear MDPs\n",
    "- We assume the existence of passive, uncontrolled dynamics expressed by the transition probability matrix $\\overline{P}$.\n",
    "- Now the control is a real value vector which modifies the transition probabilities $p_{ij}(\\mathbf{u}) = \\overline{p}_{ij} e^{u_j}$\n",
    "- It follows that $P(0) = \\overline{P}$ and $\\overline{p}_{ij} \\rightarrow p_{ij}(\\mathbf u) = 0$\n",
    "- $P(\\mathbf u)$ must have row-sums equal to 1.\n",
    "\n",
    "Thus, we derive the constraints:\n",
    "\\begin{align}\n",
    "U(i) &= {\\mathbf{u} \\in \\mathbb R^{|\\mathcal{S}|}; \\sum_j \\overline{p}_{ij}e^{u_j} = 1; \\overline{p}_ij = 0 \\rightarrow u_j = 0} \\\\\n",
    "\\end{align}\n",
    "\n",
    "\n",
    "Real-valued controls make it possible to derfine a natural control cost which measures how much proposed controls diverge from the uncontrolled dynamics. For such measurement, the KL divergence is used.\n",
    "\\begin{align}\n",
    "r(i, \\mathbf{u}) &= KL(\\mathbf{p}_i(\\mathbf{u})) \\mathinner{\\text{||}} \\mathbf{p}_i (0)) = \\sum_{j:\\overline{p}_{ij}} \\log{\\frac{p_{ij}(\\mathbf{u})}{p_{ij}(0)}} \\\\\n",
    "\\end{align}\n",
    "\n",
    "Subtituting and replacing, the control costs become:\n",
    "\\begin{align}\n",
    "r(i, \\mathbf{u}) &= \\sum_j p_{ij}(\\mathbf{u}) u_j \\\\\n",
    "\\end{align}\n",
    "This has an interesting interpretation <span style='color: red;'> although the MDP likes to behave according to $\\overline P$ it can be paid to act according to $\\overline{P}(\\mathbf{u})$ </span>. We can also add an arbitrary state cost $q(i) \\geq 0$ such that:\n",
    "\\begin{align}\n",
    "c(i, \\mathbf{u}) &= q(i) + r(i, \\mathbf{u}) \\\\\n",
    "\\end{align}\n",
    "\n",
    "# <span style='color: #0066ff;'> Experiments</span>\n",
    "\n",
    "#### Setting\n",
    "- Blue Square (0,0) \n",
    "- Red Triangle (0,5). \n",
    "- Red Square (5,0).\n",
    "- Blue Triangle (5,5)\n",
    "\n",
    "<img height=\"400\" width=\"400\" src='pictures/composed_setting.png'/>\n",
    "\n",
    "# <span style='color: gray;'> Experiments</span>"
   ]
  },
  {
   "cell_type": "code",
   "execution_count": 141,
   "metadata": {},
   "outputs": [],
   "source": [
    "sol = {}\n",
    "\n",
    "N_DIM = 10\n",
    "\n",
    "TS = {'RT': 0 , 'BS':9, 'BC': 23, 'RC':67, 'RS':90, 'BT': 99}\n",
    "\n",
    "P_ = None\n",
    "\n",
    "scl = MinMaxScaler()\n",
    "\n",
    "for task in TS:\n",
    "    \n",
    "    goals = [TS[task]]\n",
    "    non_goals = list(set(list(TS.values())) - set(goals))\n",
    "    \n",
    "    P, q, goal, non_goal = create_gridworld_lmdp(N_DIM, goals, non_goals, goal=0, non_goal=-1, self_move=True)\n",
    "    \n",
    "    G = np.diagflat(q)    \n",
    "    \n",
    "    z = lmdps.power_method(P, G)\n",
    "    \n",
    "    Z = z.reshape(N_DIM,N_DIM)\n",
    "        \n",
    "    sol[task+'_T'] = {'q': q, 'Z': Z}    "
   ]
  },
  {
   "cell_type": "markdown",
   "metadata": {},
   "source": [
    "## BLUE"
   ]
  },
  {
   "cell_type": "code",
   "execution_count": 142,
   "metadata": {},
   "outputs": [
    {
     "data": {
      "application/vnd.jupyter.widget-view+json": {
       "model_id": "86892b3cd0634eea8e0df10892e4e2cc",
       "version_major": 2,
       "version_minor": 0
      },
      "text/plain": [
       "Canvas(toolbar=Toolbar(toolitems=[('Home', 'Reset original view', 'home', 'home'), ('Back', 'Back to previous …"
      ]
     },
     "metadata": {},
     "output_type": "display_data"
    }
   ],
   "source": [
    "BLUE = (sol['BT_T']['Z'] + sol['BS_T']['Z'] + sol['BC_T']['Z'])/3\n",
    "ss = 'Blue Triangle'\n",
    "fig = plotting.plot_Z_function(ss, N_DIM, BLUE, BLUE, True)\n",
    "fig.show()"
   ]
  },
  {
   "cell_type": "markdown",
   "metadata": {},
   "source": [
    "## CIRCLE"
   ]
  },
  {
   "cell_type": "code",
   "execution_count": 143,
   "metadata": {},
   "outputs": [
    {
     "data": {
      "application/vnd.jupyter.widget-view+json": {
       "model_id": "62964920c61c452cb8870b4cd26489a9",
       "version_major": 2,
       "version_minor": 0
      },
      "text/plain": [
       "Canvas(toolbar=Toolbar(toolitems=[('Home', 'Reset original view', 'home', 'home'), ('Back', 'Back to previous …"
      ]
     },
     "metadata": {},
     "output_type": "display_data"
    }
   ],
   "source": [
    "CIRCLE = (sol['BC_T']['Z'] + sol['RC_T']['Z'])/2\n",
    "ss = 'Triangle: BT (or) RT'\n",
    "fig = plotting.plot_Z_function(ss, N_DIM, CIRCLE, CIRCLE, True)\n",
    "fig.show()"
   ]
  },
  {
   "cell_type": "markdown",
   "metadata": {},
   "source": [
    "## COMBINATION"
   ]
  },
  {
   "cell_type": "code",
   "execution_count": 144,
   "metadata": {},
   "outputs": [
    {
     "data": {
      "application/vnd.jupyter.widget-view+json": {
       "model_id": "be5b3cc3be654665bb0e8fbfdcbf3eec",
       "version_major": 2,
       "version_minor": 0
      },
      "text/plain": [
       "Canvas(toolbar=Toolbar(toolitems=[('Home', 'Reset original view', 'home', 'home'), ('Back', 'Back to previous …"
      ]
     },
     "metadata": {},
     "output_type": "display_data"
    }
   ],
   "source": [
    "C = np.array([BLUE, CIRCLE]).max(axis=0)\n",
    "ss = 'min(BLUE, TRIANG)'\n",
    "fig = plotting.plot_Z_function(ss, N_DIM, C, -np.log(C), True)\n",
    "fig.show()"
   ]
  },
  {
   "cell_type": "markdown",
   "metadata": {},
   "source": [
    "## TARGET"
   ]
  },
  {
   "cell_type": "code",
   "execution_count": 145,
   "metadata": {},
   "outputs": [
    {
     "name": "stderr",
     "output_type": "stream",
     "text": [
      "/Users/guillermo/.pyenv/versions/3.7.5/envs/rl_env/lib/python3.7/site-packages/ipykernel_launcher.py:3: RuntimeWarning: divide by zero encountered in log\n",
      "  This is separate from the ipykernel package so we can avoid doing imports until\n"
     ]
    },
    {
     "data": {
      "application/vnd.jupyter.widget-view+json": {
       "model_id": "61ee2ba0d54c43e5a421df03ede7a53c",
       "version_major": 2,
       "version_minor": 0
      },
      "text/plain": [
       "Canvas(toolbar=Toolbar(toolitems=[('Home', 'Reset original view', 'home', 'home'), ('Back', 'Back to previous …"
      ]
     },
     "metadata": {},
     "output_type": "display_data"
    }
   ],
   "source": [
    "T = sol['BC_T']['Z'].copy()\n",
    "ss = 'min(BLUE, TRIANG)'\n",
    "fig = plotting.plot_Z_function(ss, N_DIM, T, np.log(T), True)\n",
    "fig.show()"
   ]
  },
  {
   "cell_type": "code",
   "execution_count": 146,
   "metadata": {},
   "outputs": [
    {
     "data": {
      "text/plain": [
       "matrix([[1.        , 0.72621709, 0.55312344, 0.4599038 , 0.48484315,\n",
       "         0.56079965, 0.6524441 , 0.74935101, 0.8568017 , 1.        ],\n",
       "        [0.7542509 , 0.62552782, 0.47324943, 0.34174481, 0.43382601,\n",
       "         0.54511168, 0.64718166, 0.73880721, 0.82105411, 0.88714758],\n",
       "        [0.63722489, 0.54839385, 0.37260167, 0.        , 0.36360439,\n",
       "         0.53863941, 0.65236364, 0.73764207, 0.80145993, 0.84038864],\n",
       "        [0.60902991, 0.55822102, 0.46876339, 0.37481816, 0.48195214,\n",
       "         0.59347794, 0.68599142, 0.7579375 , 0.80675492, 0.8325584 ],\n",
       "        [0.63164382, 0.60669693, 0.56941271, 0.54855712, 0.59590806,\n",
       "         0.66732878, 0.7401866 , 0.80136157, 0.83506384, 0.85053165],\n",
       "        [0.67920462, 0.66751017, 0.65363341, 0.65408955, 0.6857942 ,\n",
       "         0.73974254, 0.80606462, 0.87225836, 0.88160724, 0.88397269],\n",
       "        [0.73845987, 0.73050573, 0.7235212 , 0.72837346, 0.75343665,\n",
       "         0.79978256, 0.87207098, 1.        , 0.93513405, 0.9197792 ],\n",
       "        [0.80566926, 0.79253167, 0.78157219, 0.78244645, 0.79979638,\n",
       "         0.83388007, 0.88243673, 0.93617429, 0.93914977, 0.94023085],\n",
       "        [0.88601625, 0.85237949, 0.82778944, 0.82004378, 0.82942234,\n",
       "         0.85350463, 0.88762158, 0.92311066, 0.9450599 , 0.96176358],\n",
       "        [1.        , 0.9031806 , 0.85716231, 0.84051689, 0.84434458,\n",
       "         0.86309451, 0.89143431, 0.92358685, 0.95621558, 1.        ]])"
      ]
     },
     "execution_count": 146,
     "metadata": {},
     "output_type": "execute_result"
    }
   ],
   "source": [
    "T"
   ]
  },
  {
   "cell_type": "code",
   "execution_count": 253,
   "metadata": {},
   "outputs": [
    {
     "name": "stdout",
     "output_type": "stream",
     "text": [
      "0 0.0\n",
      "1 0.012174803215771662\n",
      "2 0.00935304946289972\n",
      "3 0.009798306247917582\n",
      "4 0.004837461012002581\n",
      "5 0.006131920698319665\n",
      "6 0.003951076321064229\n",
      "7 0.0012383238436225463\n",
      "8 0.0002715345615473541\n",
      "9 0.0\n",
      "10 0.008785380804763848\n",
      "11 0.007890685232607803\n",
      "12 0.01614794800764452\n",
      "13 0.2002380611303357\n",
      "14 0.013411846693670931\n",
      "15 0.0074400118516830815\n",
      "16 0.004422196821179031\n",
      "17 0.0015259622250969052\n",
      "18 0.0003117254693300875\n",
      "19 0.0002495055489817599\n",
      "20 0.0035309765092728096\n",
      "21 0.010136692997809421\n",
      "22 0.194786034509661\n",
      "23 0.0\n",
      "24 0.20533501474423418\n",
      "25 0.013797779545038136\n",
      "26 0.004466875169937157\n",
      "27 0.002294951008871504\n",
      "28 0.0007399294146221702\n",
      "29 9.681601361166692e-05\n",
      "30 0.000745998347516541\n",
      "31 0.0026529641453362507\n",
      "32 0.011256678697585953\n",
      "33 0.19790679170274225\n",
      "34 0.016246688756675398\n",
      "35 0.006026237535474405\n",
      "36 0.0027034015387787103\n",
      "37 0.0013296471096543583\n",
      "38 0.0006824297322308714\n",
      "39 0.00022643293553542554\n",
      "40 0.0006528730245726477\n",
      "41 0.0013362507689293757\n",
      "42 0.003841108067043908\n",
      "43 0.010671845674964237\n",
      "44 0.005254350318689538\n",
      "45 0.002840001018126398\n",
      "46 0.0015705708874215185\n",
      "47 0.0008023873175663498\n",
      "48 0.0003428605976931176\n",
      "49 0.00013670664365922347\n",
      "50 0.0008952788695689995\n",
      "51 0.0010319955122730373\n",
      "52 0.0017352778515951628\n",
      "53 0.002619578800518829\n",
      "54 0.002115290034745393\n",
      "55 0.00152199488518856\n",
      "56 0.0010242401428446068\n",
      "57 0.0006039493662636508\n",
      "58 0.000331980076152788\n",
      "59 0.00022461102704757208\n",
      "60 0.0009038943055719173\n",
      "61 0.0007675060795656607\n",
      "62 0.000898597150037872\n",
      "63 0.0010459111728153003\n",
      "64 0.0010123919428796924\n",
      "65 0.0009106611915700169\n",
      "66 0.0007482130804435383\n",
      "67 0.0\n",
      "68 0.0005419998839044649\n",
      "69 0.0006541934599512134\n",
      "70 0.000856641733788216\n",
      "71 0.0005395662704753557\n",
      "72 0.00047307102312346694\n",
      "73 0.0004846795988524555\n",
      "74 0.0005384674824291669\n",
      "75 0.0006082224847618889\n",
      "76 0.0006638078415263371\n",
      "77 0.0007776958820823188\n",
      "78 0.0010033769519361968\n",
      "79 0.0003679734764123477\n",
      "80 0.0009949971764373067\n",
      "81 0.0003647442244626986\n",
      "82 0.00021596244498184314\n",
      "83 0.00020720077851296703\n",
      "84 0.0003049029093547262\n",
      "85 0.00047373825364346867\n",
      "86 0.0007094422632583919\n",
      "87 0.001114267549342407\n",
      "88 0.00034582721283665796\n",
      "89 0.0018310064127185222\n",
      "90 0.0\n",
      "91 0.0004929710176176383\n",
      "92 0.00011459487832826687\n",
      "93 9.102659440690664e-05\n",
      "94 0.00024569664985960027\n",
      "95 0.0005298235471891122\n",
      "96 0.00101641616905071\n",
      "97 0.00041678217182858357\n",
      "98 0.001657193320889927\n",
      "99 0.0\n"
     ]
    }
   ],
   "source": [
    "p0 = lmdps.get_policy(P, T)\n",
    "p1 = lmdps.get_policy(P, C)\n",
    "div = kl_div(p0, p1)\n",
    "\n",
    "\n",
    "a = 'SRC State'\n",
    "d = 'KL-Div'\n",
    "\n",
    "for i in range(div.shape[0]):\n",
    "    print(i, div[i, :].sum())"
   ]
  },
  {
   "cell_type": "code",
   "execution_count": null,
   "metadata": {},
   "outputs": [],
   "source": []
  }
 ],
 "metadata": {
  "kernelspec": {
   "display_name": "Python 3",
   "language": "python",
   "name": "python3"
  },
  "language_info": {
   "codemirror_mode": {
    "name": "ipython",
    "version": 3
   },
   "file_extension": ".py",
   "mimetype": "text/x-python",
   "name": "python",
   "nbconvert_exporter": "python",
   "pygments_lexer": "ipython3",
   "version": "3.7.9"
  }
 },
 "nbformat": 4,
 "nbformat_minor": 4
}